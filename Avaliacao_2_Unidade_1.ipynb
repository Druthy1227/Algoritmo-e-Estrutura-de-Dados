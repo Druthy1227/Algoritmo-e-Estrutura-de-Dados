{
  "cells": [
    {
      "cell_type": "markdown",
      "id": "e89cc3ec",
      "metadata": {
        "id": "e89cc3ec"
      },
      "source": [
        "# Atividade Avaliativa 2 - Unidade 1"
      ]
    },
    {
      "cell_type": "markdown",
      "id": "3j_Mz2zvgAHj",
      "metadata": {
        "id": "3j_Mz2zvgAHj"
      },
      "source": [
        "**Componentes do Grupo:**\n",
        "\n",
        "- Luiz Gustavo\n",
        "- Guilherme Dionízio\n",
        "- Danilo Lima"
      ]
    },
    {
      "cell_type": "markdown",
      "id": "5148cd49",
      "metadata": {
        "id": "5148cd49"
      },
      "source": [
        "## Q1 (0,5 ponto)\n",
        "Escreva um algoritmo que leia dois números e escreva “iguais” se os números forem iguais e “diferentes” se os números forem diferentes.\n"
      ]
    },
    {
      "cell_type": "code",
      "execution_count": 4,
      "id": "fc596bfd",
      "metadata": {
        "id": "fc596bfd"
      },
      "outputs": [
        {
          "name": "stdout",
          "output_type": "stream",
          "text": [
            "Números iguais\n"
          ]
        }
      ],
      "source": [
        "# Implementação Q1\n",
        "\n",
        "num_1 = int(input(\"Insira o primeiro número\"))\n",
        "num_2 = int(input(\"Insira o segundo número\"))\n",
        "\n",
        "if num_1 == num_2:\n",
        "    print(\"Números iguais\")\n",
        "else:\n",
        "    print(\"Números distintos\")"
      ]
    },
    {
      "cell_type": "markdown",
      "id": "3b3168a1",
      "metadata": {
        "id": "3b3168a1"
      },
      "source": [
        "## Q2 (0,5 ponto)\n",
        "Escreva um algoritmo que leia um número e escreva “sim” se o número está compreendido no intervalo `[30, 70]` e “não” caso contrário."
      ]
    },
    {
      "cell_type": "code",
      "execution_count": 24,
      "id": "5bebcc35",
      "metadata": {
        "id": "5bebcc35"
      },
      "outputs": [
        {
          "name": "stdout",
          "output_type": "stream",
          "text": [
            "Sim\n"
          ]
        }
      ],
      "source": [
        "# Implementação Q2\n",
        "\n",
        "X = int(input(\"Insira um número:\"))\n",
        "\n",
        "menor = X >= 30\n",
        "maior = X <= 70\n",
        "\n",
        "if maior and menor:\n",
        "    print(\"Sim\")\n",
        "else:\n",
        "    print(\"Não\")"
      ]
    },
    {
      "cell_type": "markdown",
      "id": "6a51d794",
      "metadata": {
        "id": "6a51d794"
      },
      "source": [
        "## Q3 (0,5 ponto)\n",
        "Escreva um algoritmo que leia dois números e escreva o maior deles. Se os números forem iguais, qualquer um deles por ser escrito (pois são os mesmos)."
      ]
    },
    {
      "cell_type": "code",
      "execution_count": 38,
      "id": "Kv_eyAjkenG4",
      "metadata": {
        "id": "Kv_eyAjkenG4"
      },
      "outputs": [
        {
          "name": "stdout",
          "output_type": "stream",
          "text": [
            "658\n"
          ]
        }
      ],
      "source": [
        "# Implementação Q3\n",
        "\n",
        "num_1 = int(input(\"Insira o primeiro número:\"))\n",
        "num_2 = int(input(\"Insira o segundo número:\"))\n",
        "\n",
        "comparador = num_1 - num_2\n",
        "\n",
        "if comparador >= 0:\n",
        "    print(num_1)\n",
        "elif comparador >=0:\n",
        "    print(num_1)\n",
        "else:\n",
        "    print(num_2)"
      ]
    },
    {
      "cell_type": "markdown",
      "id": "qz_MXgCsenG2",
      "metadata": {
        "id": "qz_MXgCsenG2"
      },
      "source": [
        "## Q4 (0,5 ponto)\n",
        "Escreva um algoritmo que leia um número inteiro e escreva como saída “múltiplo de 3” se o número for múltiplo de 3 ou “não é múltiplo de 3” caso contrário. Lembre-se de que um número `n` é múltiplo de 3 se ele é divisível por 3, ou seja, se o resto da divisão (`%`) de n\n",
        "por 3 é zero."
      ]
    },
    {
      "cell_type": "code",
      "execution_count": 50,
      "id": "5a52605d",
      "metadata": {
        "id": "5a52605d"
      },
      "outputs": [
        {
          "name": "stdout",
          "output_type": "stream",
          "text": [
            "Múltiplo de 3\n"
          ]
        }
      ],
      "source": [
        "# Implementação Q4\n",
        "\n",
        "X = int(input(\"Insira o número a ser analisado:\"))\n",
        "\n",
        "resto = X % 3\n",
        "\n",
        "\n",
        "if resto == 0:\n",
        "    print(\"Múltiplo de 3\")\n",
        "else:\n",
        "    print(\"Não é multiplo de 3\")"
      ]
    },
    {
      "cell_type": "markdown",
      "id": "DGZBEuppet2y",
      "metadata": {
        "id": "DGZBEuppet2y"
      },
      "source": [
        "## Q5 (0,5 ponto)\n",
        "Escreva um algoritmo que leia o nome de dois clientes de uma loja e o valor (em reais) que cada um desses clientes pagou por sua compra. O\n",
        "algoritmo deverá escrever:\n",
        "1. O valor total pago pelos dois clientes;\n",
        "2. O valor médio das compras efetuadas;\n",
        "3. Os nomes dos clientes que efetuaram compras superiores a 20 reais."
      ]
    },
    {
      "cell_type": "code",
      "execution_count": 49,
      "id": "Mi2keuRBet2y",
      "metadata": {
        "id": "Mi2keuRBet2y"
      },
      "outputs": [
        {
          "name": "stdout",
          "output_type": "stream",
          "text": [
            "Valor médio das compras:22.0\n",
            "Luiz realizou uma compra acima de 20 reais!\n"
          ]
        }
      ],
      "source": [
        "# Implementação Q5\n",
        "\n",
        "cliente_1 = input(\"Insira o nome do primeiro cliente:\")\n",
        "valor_1 = float(input(\"Insira o valor pago pelo primeiro cliente:\"))\n",
        "cliente_2 = input(\"Insira o nome do segundo cliente:\")\n",
        "valor_2 = float(input(\"Insira o valor pago pelo segundo cliente:\"))\n",
        "\n",
        "\n",
        "soma = valor_1 + valor_2\n",
        "media = soma/2\n",
        "\n",
        "print(f\"Valor médio das compras:{media}\")\n",
        "\n",
        "if valor_1 < 20:\n",
        "    print(f\"{cliente_1} realizou uma compra acima de 20 reais!\")\n",
        "else:\n",
        "    pass\n",
        "\n",
        "if valor_2 < 20:\n",
        "    print(f\"{cliente_2} realizou uma compra acima de 20 reais!\")\n",
        "else:\n",
        "    pass"
      ]
    }
  ],
  "metadata": {
    "colab": {
      "provenance": []
    },
    "kernelspec": {
      "display_name": "Python 3",
      "language": "python",
      "name": "python3"
    },
    "language_info": {
      "codemirror_mode": {
        "name": "ipython",
        "version": 3
      },
      "file_extension": ".py",
      "mimetype": "text/x-python",
      "name": "python",
      "nbconvert_exporter": "python",
      "pygments_lexer": "ipython3",
      "version": "3.11.9"
    }
  },
  "nbformat": 4,
  "nbformat_minor": 5
}
